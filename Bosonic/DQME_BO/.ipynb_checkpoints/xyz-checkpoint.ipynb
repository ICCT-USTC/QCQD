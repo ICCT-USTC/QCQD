{
 "cells": [
  {
   "cell_type": "code",
   "execution_count": 1,
   "metadata": {},
   "outputs": [
    {
     "ename": "ModuleNotFoundError",
     "evalue": "No module named 'qiskit'",
     "output_type": "error",
     "traceback": [
      "\u001b[1;31m---------------------------------------------------------------------------\u001b[0m",
      "\u001b[1;31mModuleNotFoundError\u001b[0m                       Traceback (most recent call last)",
      "\u001b[1;32m~\\AppData\\Local\\Temp\\ipykernel_7948\\1487340335.py\u001b[0m in \u001b[0;36m<module>\u001b[1;34m\u001b[0m\n\u001b[0;32m      2\u001b[0m \u001b[1;32mimport\u001b[0m \u001b[0mmatplotlib\u001b[0m\u001b[1;33m.\u001b[0m\u001b[0mpyplot\u001b[0m \u001b[1;32mas\u001b[0m \u001b[0mplt\u001b[0m\u001b[1;33m\u001b[0m\u001b[1;33m\u001b[0m\u001b[0m\n\u001b[0;32m      3\u001b[0m \u001b[1;32mfrom\u001b[0m \u001b[0mmatplotlib\u001b[0m\u001b[1;33m.\u001b[0m\u001b[0mcolors\u001b[0m \u001b[1;32mimport\u001b[0m \u001b[0mListedColormap\u001b[0m\u001b[1;33m,\u001b[0m \u001b[0mLinearSegmentedColormap\u001b[0m\u001b[1;33m\u001b[0m\u001b[1;33m\u001b[0m\u001b[0m\n\u001b[1;32m----> 4\u001b[1;33m \u001b[1;32mfrom\u001b[0m \u001b[0mdata\u001b[0m \u001b[1;32mimport\u001b[0m \u001b[0mrdo\u001b[0m\u001b[1;33m,\u001b[0m \u001b[0mobservable\u001b[0m\u001b[1;33m\u001b[0m\u001b[1;33m\u001b[0m\u001b[0m\n\u001b[0m\u001b[0;32m      5\u001b[0m \u001b[1;32mfrom\u001b[0m \u001b[0maux\u001b[0m \u001b[1;32mimport\u001b[0m \u001b[0msigma_x\u001b[0m\u001b[1;33m,\u001b[0m \u001b[0msigma_y\u001b[0m\u001b[1;33m,\u001b[0m \u001b[0msigma_z\u001b[0m\u001b[1;33m\u001b[0m\u001b[1;33m\u001b[0m\u001b[0m\n",
      "\u001b[1;32m~\\Documents\\Sychronize\\LX2\\DQME+QC\\codes\\DQME_BO\\data.py\u001b[0m in \u001b[0;36m<module>\u001b[1;34m\u001b[0m\n\u001b[1;32m----> 1\u001b[1;33m \u001b[1;32mfrom\u001b[0m \u001b[0mqiskit\u001b[0m\u001b[1;33m.\u001b[0m\u001b[0mquantum_info\u001b[0m \u001b[1;32mimport\u001b[0m \u001b[0mStatevector\u001b[0m\u001b[1;33m\u001b[0m\u001b[1;33m\u001b[0m\u001b[0m\n\u001b[0m\u001b[0;32m      2\u001b[0m \u001b[1;32mimport\u001b[0m \u001b[0mnumpy\u001b[0m \u001b[1;32mas\u001b[0m \u001b[0mnp\u001b[0m\u001b[1;33m\u001b[0m\u001b[1;33m\u001b[0m\u001b[0m\n\u001b[0;32m      3\u001b[0m \u001b[1;33m\u001b[0m\u001b[0m\n\u001b[0;32m      4\u001b[0m \u001b[1;32mdef\u001b[0m \u001b[0mrho_tilde\u001b[0m\u001b[1;33m(\u001b[0m\u001b[0mstatevector\u001b[0m\u001b[1;33m:\u001b[0m\u001b[0mStatevector\u001b[0m\u001b[1;33m,\u001b[0m \u001b[0mtotal_qubits\u001b[0m\u001b[1;33m:\u001b[0m\u001b[0mint\u001b[0m\u001b[1;33m)\u001b[0m\u001b[1;33m:\u001b[0m\u001b[1;33m\u001b[0m\u001b[1;33m\u001b[0m\u001b[0m\n\u001b[0;32m      5\u001b[0m     \u001b[0mrho_tilde\u001b[0m \u001b[1;33m=\u001b[0m\u001b[0mnp\u001b[0m\u001b[1;33m.\u001b[0m\u001b[0mzeros\u001b[0m\u001b[1;33m(\u001b[0m\u001b[0mshape\u001b[0m\u001b[1;33m=\u001b[0m\u001b[1;33m(\u001b[0m\u001b[1;36m2\u001b[0m\u001b[1;33m**\u001b[0m\u001b[1;33m(\u001b[0m\u001b[0mtotal_qubits\u001b[0m\u001b[1;33m-\u001b[0m\u001b[1;36m1\u001b[0m\u001b[1;33m)\u001b[0m\u001b[1;33m)\u001b[0m\u001b[1;33m,\u001b[0m \u001b[0mdtype\u001b[0m\u001b[1;33m=\u001b[0m\u001b[0mcomplex\u001b[0m\u001b[1;33m)\u001b[0m\u001b[1;33m\u001b[0m\u001b[1;33m\u001b[0m\u001b[0m\n",
      "\u001b[1;31mModuleNotFoundError\u001b[0m: No module named 'qiskit'"
     ]
    }
   ],
   "source": [
    "import numpy as np\n",
    "import matplotlib.pyplot as plt\n",
    "from matplotlib.colors import ListedColormap, LinearSegmentedColormap\n",
    "from data import rdo, observable\n",
    "from aux import sigma_x, sigma_y, sigma_z"
   ]
  },
  {
   "cell_type": "code",
   "execution_count": null,
   "metadata": {},
   "outputs": [],
   "source": [
    "rdo_data = np.load(file='rdo_normalized.npz')\n",
    "heom_data = np.loadtxt(\"prop-rho-eq.dat\")\n",
    "steps = 2000\n",
    "tau = 0.01"
   ]
  },
  {
   "cell_type": "code",
   "execution_count": null,
   "metadata": {},
   "outputs": [],
   "source": [
    "heom_Z = np.zeros(shape=(steps+1, 2), dtype=float)\n",
    "for i in range(steps+1):\n",
    "    heom_Z[i][0]=heom_data[i][0]\n",
    "    heom_Z[i][1]=heom_data[i][1]-heom_data[i][7]\n",
    "heom_Z = heom_Z.transpose()"
   ]
  },
  {
   "cell_type": "code",
   "execution_count": null,
   "metadata": {},
   "outputs": [],
   "source": [
    "heom_X = np.zeros(shape=(steps+1, 2), dtype=float)\n",
    "for i in range(steps+1):\n",
    "    heom_X[i][0]=heom_data[i][0]\n",
    "    heom_X[i][1]=heom_data[i][3]+heom_data[i][5]\n",
    "heom_X = heom_X.transpose()"
   ]
  },
  {
   "cell_type": "code",
   "execution_count": null,
   "metadata": {},
   "outputs": [],
   "source": [
    "heom_Y = np.zeros(shape=(steps+1, 2), dtype=float)\n",
    "for i in range(steps+1):\n",
    "    heom_Y[i][0]=heom_data[i][0]\n",
    "    heom_Y[i][1]=heom_data[i][4]-heom_data[i][6]\n",
    "heom_Y = heom_Y.transpose()     "
   ]
  },
  {
   "cell_type": "code",
   "execution_count": null,
   "metadata": {},
   "outputs": [],
   "source": [
    "DQME_Z = np.zeros(shape=(steps+1, 2), dtype=float)\n",
    "observe = sigma_z\n",
    "for i in range(steps+1):\n",
    "    DQME_Z[i][0]= i * tau\n",
    "    DQME_Z[i][1]=(rdo_data[str(i)][0] - rdo_data[str(i)][3]).real\n",
    "DQME_Z = DQME_Z.transpose()"
   ]
  },
  {
   "cell_type": "code",
   "execution_count": null,
   "metadata": {},
   "outputs": [],
   "source": [
    "DQME_X = np.zeros(shape=(steps+1, 2), dtype=float)\n",
    "observe = sigma_x\n",
    "for i in range(steps+1):\n",
    "    DQME_X[i][0]= i * tau\n",
    "    DQME_X[i][1]=(rdo_data[str(i)][1] + rdo_data[str(i)][2]).real\n",
    "DQME_X = DQME_X.transpose()"
   ]
  },
  {
   "cell_type": "code",
   "execution_count": null,
   "metadata": {},
   "outputs": [],
   "source": [
    "DQME_Y= np.zeros(shape=(steps+1, 2), dtype=float)\n",
    "observe = sigma_y\n",
    "for i in range(steps+1):\n",
    "    DQME_Y[i][0]= i * tau\n",
    "    DQME_Y[i][1]=(-1j*(rdo_data[str(i)][1] - rdo_data[str(i)][2])).real\n",
    "DQME_Y = DQME_Y.transpose()"
   ]
  },
  {
   "cell_type": "code",
   "execution_count": null,
   "metadata": {},
   "outputs": [],
   "source": [
    "plt.plot(heom_Z[0], heom_Z[1], label='HEOM', color='blue') \n",
    "plt.plot(DQME_Z[0], DQME_Z[1], label='DQME-qc', color='red', linestyle = 'dashed')\n",
    "plt.title(\"Sigma_Z\", fontsize=30, loc='center', color='purple')\n",
    "plt.legend(loc='best')\n",
    "plt.xlabel(\"Time\"), plt.ylabel(\"<Sigma_Z>\")\n",
    "plt.savefig('Sigma_Z.pdf')\n",
    "plt.close()"
   ]
  },
  {
   "cell_type": "code",
   "execution_count": null,
   "metadata": {},
   "outputs": [],
   "source": [
    "plt.plot(heom_X[0], heom_X[1], label='HEOM', color='blue') \n",
    "plt.plot(DQME_X[0], DQME_X[1], label='DQME-qc', color='red', linestyle = 'dashed')\n",
    "plt.title(\"Sigma_X\", fontsize=30, loc='center', color='purple')\n",
    "plt.legend(loc='best')\n",
    "plt.xlabel(\"Time\"), plt.ylabel(\"<Sigma_X>\")\n",
    "plt.savefig('Sigma_X.pdf')\n",
    "plt.close()"
   ]
  },
  {
   "cell_type": "code",
   "execution_count": null,
   "metadata": {},
   "outputs": [],
   "source": [
    "plt.plot(heom_Y[0], heom_Y[1], label='HEOM', color='blue') \n",
    "plt.plot(DQME_Y[0], DQME_Y[1], label='DQME-qc', color='red', linestyle = 'dashed')\n",
    "plt.title(\"Sigma_Y\", fontsize=30, loc='center', color='purple')\n",
    "plt.legend(loc='best')\n",
    "plt.xlabel(\"Time\"), plt.ylabel(\"<Sigma_Y>\")\n",
    "plt.savefig('Sigma_Y.pdf')\n",
    "plt.close()"
   ]
  }
 ],
 "metadata": {
  "kernelspec": {
   "display_name": "Python 3 (ipykernel)",
   "language": "python",
   "name": "python3"
  },
  "language_info": {
   "codemirror_mode": {
    "name": "ipython",
    "version": 3
   },
   "file_extension": ".py",
   "mimetype": "text/x-python",
   "name": "python",
   "nbconvert_exporter": "python",
   "pygments_lexer": "ipython3",
   "version": "3.9.13"
  }
 },
 "nbformat": 4,
 "nbformat_minor": 2
}
