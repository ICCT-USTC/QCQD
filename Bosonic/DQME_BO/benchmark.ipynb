{
 "cells": [
  {
   "cell_type": "code",
   "execution_count": 13,
   "metadata": {},
   "outputs": [],
   "source": [
    "import numpy as np"
   ]
  },
  {
   "cell_type": "code",
   "execution_count": 14,
   "metadata": {},
   "outputs": [],
   "source": [
    "rdo_file = np.load(file='rdo_normalized.npz')\n",
    "population = []\n",
    "for i in range(1001):\n",
    "    pop = (rdo_file[str(i)][0] - rdo_file[str(i)][3]).real\n",
    "    population.append(pop)"
   ]
  },
  {
   "cell_type": "code",
   "execution_count": 15,
   "metadata": {},
   "outputs": [
    {
     "name": "stdout",
     "output_type": "stream",
     "text": [
      "(2500, 9)\n"
     ]
    }
   ],
   "source": [
    "heom_data = np.loadtxt(\"prop-rho-eq.dat\")\n",
    "print(heom_data.shape)"
   ]
  },
  {
   "cell_type": "code",
   "execution_count": 16,
   "metadata": {},
   "outputs": [],
   "source": [
    "heom_population = np.zeros(shape=(2500, 2), dtype=float)\n",
    "for i in range(2500):\n",
    "    heom_population[i][0]=heom_data[i][0]\n",
    "    heom_population[i][1]=heom_data[i][1]-heom_data[i][7]\n",
    "heom_population = heom_population.transpose()"
   ]
  },
  {
   "cell_type": "code",
   "execution_count": 17,
   "metadata": {},
   "outputs": [],
   "source": [
    "import matplotlib.pyplot as plt\n",
    "    \n",
    "plt.plot(heom_population[0], heom_population[1], label='heom L=3', color='blue') \n",
    "plt.plot(np.arange(1001) * 0.01, population, label='quantum simulation', color='red')\n",
    "plt.title(\"benchmark\", fontsize=30, loc='center', color='purple')\n",
    "plt.legend(loc='best')\n",
    "plt.xlabel(\"Time\"), plt.ylabel(\"Population\")\n",
    "plt.savefig('benchmark.png')\n",
    "plt.close()"
   ]
  },
  {
   "cell_type": "code",
   "execution_count": 18,
   "metadata": {},
   "outputs": [],
   "source": [
    "statevetor_list = np.loadtxt('1statevector.dat', dtype=complex)\n",
    "for i in range(1,4):\n",
    "    filename = f'{i+1}statevector.dat'\n",
    "    statevetor = np.loadtxt(filename, dtype=complex)\n",
    "    statevetor_list = np.vstack((statevetor_list, statevetor))\n",
    "\n"
   ]
  }
 ],
 "metadata": {
  "kernelspec": {
   "display_name": "qiskit",
   "language": "python",
   "name": "python3"
  },
  "language_info": {
   "codemirror_mode": {
    "name": "ipython",
    "version": 3
   },
   "file_extension": ".py",
   "mimetype": "text/x-python",
   "name": "python",
   "nbconvert_exporter": "python",
   "pygments_lexer": "ipython3",
   "version": "3.10.4"
  },
  "orig_nbformat": 4
 },
 "nbformat": 4,
 "nbformat_minor": 2
}
